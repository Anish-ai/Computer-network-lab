{
 "cells": [
  {
   "cell_type": "code",
   "execution_count": 4,
   "id": "4e7e1f1c",
   "metadata": {},
   "outputs": [
    {
     "name": "stdout",
     "output_type": "stream",
     "text": [
      "Email sent\n"
     ]
    },
    {
     "data": {
      "text/plain": [
       "(221,\n",
       " b'2.0.0 closing connection 98e67ed59e1d1-32b555b9d83sm18260553a91.17 - gsmtp')"
      ]
     },
     "execution_count": 4,
     "metadata": {},
     "output_type": "execute_result"
    }
   ],
   "source": [
    "import smtplib\n",
    "\n",
    "server = smtplib.SMTP('smtp.gmail.com', 587)\n",
    "server.starttls()\n",
    "server.login(\"vaultxcassiopeia@gmail.com\", \"mizi xvka gosk uvbz\")\n",
    "msg = \"\"\"From: vaultxcassiopeia@gmail.com\n",
    "To: aniskum59431@gmail.com\n",
    "Subject: Lab mail\n",
    "\n",
    "SMTP lab assignment...\n",
    "\"\"\"\n",
    "server.sendmail(\"vaultxcassiopeia@gmail.com\", \"aniskum59431@gmail.com\", msg)\n",
    "print(\"Email sent\")\n",
    "server.quit()\n",
    "\n"
   ]
  }
 ],
 "metadata": {
  "kernelspec": {
   "display_name": "Python 3",
   "language": "python",
   "name": "python3"
  },
  "language_info": {
   "codemirror_mode": {
    "name": "ipython",
    "version": 3
   },
   "file_extension": ".py",
   "mimetype": "text/x-python",
   "name": "python",
   "nbconvert_exporter": "python",
   "pygments_lexer": "ipython3",
   "version": "3.10.6"
  }
 },
 "nbformat": 4,
 "nbformat_minor": 5
}
