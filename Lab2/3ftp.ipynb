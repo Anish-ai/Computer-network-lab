{
 "cells": [
  {
   "cell_type": "code",
   "execution_count": null,
   "id": "5b596995",
   "metadata": {},
   "outputs": [
    {
     "name": "stdout",
     "output_type": "stream",
     "text": [
      "Connected and logged in.\n",
      "file created successfully.\n",
      "file uploaded successfully.\n",
      "file downloaded successfully.\n",
      "Downloaded content: FTP Lab2 Computer Networks\n",
      "-rw-rw-rw- 1 ftp ftp              28 Sep 09 07:24 ftplab2.txt\n",
      "-rw-rw-rw- 1 ftp ftp              37 Sep 09 07:18 upload.txt\n"
     ]
    },
    {
     "data": {
      "text/plain": [
       "'221 Goodbye.'"
      ]
     },
     "execution_count": 19,
     "metadata": {},
     "output_type": "execute_result"
    }
   ],
   "source": [
    "from ftplib import FTP\n",
    "\n",
    "ftp = FTP(\"127.0.0.1\")\n",
    "ftp.login(\"testuser\", \"chocobar\")\n",
    "ftp.set_pasv(True)\n",
    "print(\"Connected and logged in.\")\n",
    "\n",
    "with open(\"ftplab2.txt\", \"w\") as f:\n",
    "    f.write(\"FTP Lab2 Computer Networks\\n\")\n",
    "print(\"file created successfully.\")\n",
    "\n",
    "with open(\"ftplab2.txt\", \"rb\") as f:\n",
    "    ftp.storbinary(\"STOR ftplab2.txt\", f)\n",
    "print(\"file uploaded successfully.\")\n",
    "\n",
    "with open(\"download.txt\", \"wb\") as f:\n",
    "    ftp.retrbinary(\"RETR ftplab2.txt\", f.write)\n",
    "print(\"file downloaded successfully.\")\n",
    "\n",
    "with open(\"download.txt\", \"r\") as f:\n",
    "    print(\"Downloaded content:\", f.read().strip())\n",
    "\n",
    "ftp.retrlines(\"LIST\")\n",
    "ftp.quit()\n"
   ]
  }
 ],
 "metadata": {
  "kernelspec": {
   "display_name": "Python 3",
   "language": "python",
   "name": "python3"
  },
  "language_info": {
   "codemirror_mode": {
    "name": "ipython",
    "version": 3
   },
   "file_extension": ".py",
   "mimetype": "text/x-python",
   "name": "python",
   "nbconvert_exporter": "python",
   "pygments_lexer": "ipython3",
   "version": "3.10.6"
  }
 },
 "nbformat": 4,
 "nbformat_minor": 5
}
