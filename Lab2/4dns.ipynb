{
 "cells": [
  {
   "cell_type": "code",
   "execution_count": 14,
   "id": "20de6c7f",
   "metadata": {},
   "outputs": [
    {
     "name": "stdout",
     "output_type": "stream",
     "text": [
      "A records: ['20.207.73.82']\n",
      "MX records: ['5 alt2.aspmx.l.google.com.', '10 alt4.aspmx.l.google.com.', '1 aspmx.l.google.com.', '5 alt1.aspmx.l.google.com.', '10 alt3.aspmx.l.google.com.']\n",
      "CNAME records: ['github.com.']\n"
     ]
    }
   ],
   "source": [
    "import dns.resolver\n",
    "\n",
    "domain = \"www.google.com\"\n",
    "\n",
    "try:\n",
    "    a = dns.resolver.resolve(domain, \"A\")\n",
    "except (dns.resolver.NoAnswer, dns.resolver.NXDOMAIN, dns.resolver.NoNameservers, dns.resolver.LifetimeTimeout):\n",
    "    a = []\n",
    "\n",
    "try:\n",
    "    mx = dns.resolver.resolve(domain, \"MX\")\n",
    "except (dns.resolver.NoAnswer, dns.resolver.NXDOMAIN, dns.resolver.NoNameservers, dns.resolver.LifetimeTimeout):\n",
    "    mx = []\n",
    "\n",
    "try:\n",
    "    cname = dns.resolver.resolve(domain, \"CNAME\")\n",
    "except (dns.resolver.NoAnswer, dns.resolver.NXDOMAIN, dns.resolver.NoNameservers, dns.resolver.LifetimeTimeout):\n",
    "    cname = []\n",
    "\n",
    "with open(\"dns_log.txt\", \"w\") as f:\n",
    "    for r in a: f.write(\"A: \"+r.to_text()+\"\\n\")\n",
    "    for r in mx: f.write(\"MX: \"+r.to_text()+\"\\n\")\n",
    "    for r in cname: f.write(\"CNAME: \"+r.to_text()+\"\\n\")\n",
    "print(\"A records:\", [r.to_text() for r in a])\n",
    "print(\"MX records:\", [r.to_text() for r in mx])\n",
    "print(\"CNAME records:\", [r.to_text() for r in cname])\n"
   ]
  }
 ],
 "metadata": {
  "kernelspec": {
   "display_name": "Python 3",
   "language": "python",
   "name": "python3"
  },
  "language_info": {
   "codemirror_mode": {
    "name": "ipython",
    "version": 3
   },
   "file_extension": ".py",
   "mimetype": "text/x-python",
   "name": "python",
   "nbconvert_exporter": "python",
   "pygments_lexer": "ipython3",
   "version": "3.10.6"
  }
 },
 "nbformat": 4,
 "nbformat_minor": 5
}
