{
 "cells": [
  {
   "cell_type": "code",
   "execution_count": 3,
   "id": "cb548369",
   "metadata": {},
   "outputs": [
    {
     "name": "stdout",
     "output_type": "stream",
     "text": [
      "Sending Frame 0\n",
      "ACK 0 received\n",
      "Sending Frame 1\n",
      "Frame 1 lost, retransmitting...\n",
      "Timeout occurred, resending frame...\n",
      "Sending Frame 1\n",
      "Frame 1 lost, retransmitting...\n",
      "Timeout occurred, resending frame...\n",
      "Sending Frame 1\n",
      "ACK 1 received\n",
      "Sending Frame 2\n",
      "Frame 2 lost, retransmitting...\n",
      "Timeout occurred, resending frame...\n",
      "Sending Frame 2\n",
      "ACK 2 received\n",
      "Sending Frame 3\n",
      "ACK 3 received\n",
      "Sending Frame 4\n",
      "ACK 4 received\n"
     ]
    }
   ],
   "source": [
    "import random\n",
    "import time\n",
    "\n",
    "# Parameters\n",
    "num_frames = 5\n",
    "loss_prob = 0.2  # Probability of frame loss\n",
    "timeout = 1  # seconds\n",
    "\n",
    "def send_frame(frame_id):\n",
    "    print(f\"Sending Frame {frame_id}\")\n",
    "    time.sleep(0.5)\n",
    "\n",
    "def receive_ack(frame_id):\n",
    "    if random.random() < loss_prob:\n",
    "        print(f\"Frame {frame_id} lost, retransmitting...\")\n",
    "        return False\n",
    "    print(f\"ACK {frame_id} received\")\n",
    "    return True\n",
    "\n",
    "def stop_and_wait():\n",
    "    frame = 0\n",
    "    while frame < num_frames:\n",
    "        send_frame(frame)\n",
    "        time.sleep(1)\n",
    "\n",
    "        ack_received = receive_ack(frame)\n",
    "        if ack_received:\n",
    "            frame += 1\n",
    "        else:\n",
    "            print(\"Timeout occurred, resending frame...\")\n",
    "            time.sleep(timeout)\n",
    "\n",
    "if __name__ == \"__main__\":\n",
    "    stop_and_wait()\n"
   ]
  }
 ],
 "metadata": {
  "kernelspec": {
   "display_name": "Python 3",
   "language": "python",
   "name": "python3"
  },
  "language_info": {
   "codemirror_mode": {
    "name": "ipython",
    "version": 3
   },
   "file_extension": ".py",
   "mimetype": "text/x-python",
   "name": "python",
   "nbconvert_exporter": "python",
   "pygments_lexer": "ipython3",
   "version": "3.10.6"
  }
 },
 "nbformat": 4,
 "nbformat_minor": 5
}
