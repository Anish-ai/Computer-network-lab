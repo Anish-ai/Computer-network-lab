{
 "cells": [
  {
   "cell_type": "code",
   "execution_count": 1,
   "id": "35e0d9b0",
   "metadata": {},
   "outputs": [
    {
     "name": "stdout",
     "output_type": "stream",
     "text": [
      "Sending frames 0 to 3\n",
      "ACK 3 received\n",
      "Window slides to 4 to 7\n",
      "\n",
      "Sending frames 4 to 7\n",
      "ACK 7 received\n",
      "Window slides to 8 to 9\n",
      "\n",
      "Sending frames 8 to 9\n",
      "Frame 8 lost, retransmitting frames 8 to 9\n",
      "Sending frames 8 to 9\n",
      "ACK 9 received\n",
      "Window slides to 10 to 9\n",
      "\n"
     ]
    }
   ],
   "source": [
    "import random\n",
    "import time\n",
    "\n",
    "# Parameters\n",
    "total_frames = 10\n",
    "window_size = 4\n",
    "loss_prob = 0.2\n",
    "\n",
    "def send_frames(start, end):\n",
    "    print(f\"Sending frames {start} to {end}\")\n",
    "    time.sleep(0.5)\n",
    "\n",
    "def go_back_n():\n",
    "    base = 0\n",
    "    while base < total_frames:\n",
    "        end = min(base + window_size - 1, total_frames - 1)\n",
    "        send_frames(base, end)\n",
    "        lost_frame = random.randint(base, end)\n",
    "        if random.random() < loss_prob:\n",
    "            print(f\"Frame {lost_frame} lost, retransmitting frames {lost_frame} to {end}\")\n",
    "            time.sleep(1)\n",
    "            continue\n",
    "        \n",
    "        ack = end\n",
    "        print(f\"ACK {ack} received\")\n",
    "        base = ack + 1\n",
    "        print(f\"Window slides to {base} to {min(base + window_size - 1, total_frames - 1)}\\n\")\n",
    "        time.sleep(0.5)\n",
    "\n",
    "if __name__ == \"__main__\":\n",
    "    go_back_n()"
   ]
  }
 ],
 "metadata": {
  "kernelspec": {
   "display_name": "Python 3",
   "language": "python",
   "name": "python3"
  },
  "language_info": {
   "codemirror_mode": {
    "name": "ipython",
    "version": 3
   },
   "file_extension": ".py",
   "mimetype": "text/x-python",
   "name": "python",
   "nbconvert_exporter": "python",
   "pygments_lexer": "ipython3",
   "version": "3.10.6"
  }
 },
 "nbformat": 4,
 "nbformat_minor": 5
}
