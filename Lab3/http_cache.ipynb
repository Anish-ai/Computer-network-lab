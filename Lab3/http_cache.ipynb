{
 "cells": [
  {
   "cell_type": "markdown",
   "id": "7657e151",
   "metadata": {},
   "source": [
    "# HTTP Caching Server with ETag and Last-Modified\n",
    "\n",
    "## Aim\n",
    "To implement an HTTP server in Python that demonstrates caching using ETag and Last-Modified headers, and serves web pages efficiently using conditional requests."
   ]
  },
  {
   "cell_type": "markdown",
   "id": "2fb08d12",
   "metadata": {},
   "source": [
    "## Description\n",
    "This server uses Python's `http.server` and `socketserver` modules to serve a single `index.html` file. It implements HTTP caching by:\n",
    "\n",
    "- Generating an ETag (MD5 hash of file content) for each version of the file.\n",
    "- Setting the Last-Modified header based on the file’s modification time.\n",
    "- Checking the client’s request headers `If-None-Match` (ETag) and `If-Modified-Since` to validate cached copies.\n",
    "\n",
    "If the client already has the latest version of the file, the server responds with `304 Not Modified`, avoiding retransmission. Otherwise, it sends a `200 OK` response with the file contents, ETag, and Last-Modified headers."
   ]
  },
  {
   "cell_type": "markdown",
   "id": "b723d28c",
   "metadata": {},
   "source": [
    "## Key Learning Outcomes\n",
    "- Understand how HTTP caching reduces network bandwidth usage.\n",
    "- See server-driven caching using both strong (ETag) and weak (Last-Modified) validators.\n",
    "- Gain experience with real-world HTTP header manipulation in server-side programming."
   ]
  },
  {
   "cell_type": "code",
   "execution_count": null,
   "id": "911e9720",
   "metadata": {},
   "outputs": [
    {
     "name": "stdout",
     "output_type": "stream",
     "text": [
      "Serving on port 8081...\n"
     ]
    },
    {
     "name": "stderr",
     "output_type": "stream",
     "text": [
      "127.0.0.1 - - [12/Sep/2025 14:42:37] \"GET / HTTP/1.1\" 304 -\n",
      "127.0.0.1 - - [12/Sep/2025 14:42:55] \"GET / HTTP/1.1\" 200 -\n",
      "127.0.0.1 - - [12/Sep/2025 14:42:55] \"GET / HTTP/1.1\" 200 -\n",
      "127.0.0.1 - - [12/Sep/2025 14:43:03] \"GET / HTTP/1.1\" 304 -\n",
      "127.0.0.1 - - [12/Sep/2025 14:43:03] \"GET / HTTP/1.1\" 304 -\n"
     ]
    }
   ],
   "source": [
    "import http.server\n",
    "import socketserver\n",
    "import os\n",
    "import hashlib\n",
    "from email.utils import formatdate, parsedate_to_datetime\n",
    "\n",
    "PORT = 8081\n",
    "FILENAME = \"index.html\"\n",
    "\n",
    "class CachingHandler(http.server.SimpleHTTPRequestHandler):\n",
    "    def do_GET(self):\n",
    "        if self.path in [\"/\", f\"/{FILENAME}\"]:\n",
    "            filename = FILENAME\n",
    "        elif self.path == \"/favicon.ico\":\n",
    "            self.send_response(204)\n",
    "            self.end_headers()\n",
    "            return\n",
    "        else:\n",
    "            print(self.path)\n",
    "            self.send_error(404, \"File Not Found\")\n",
    "            return\n",
    "\n",
    "        with open(filename, \"rb\") as f:\n",
    "            content = f.read()\n",
    "\n",
    "        etag = hashlib.md5(content).hexdigest()\n",
    "        last_mod_time = int(os.path.getmtime(filename))\n",
    "        last_modify = formatdate(last_mod_time, usegmt=True)\n",
    "\n",
    "        if_none_match = self.headers.get(\"If-None-Match\")\n",
    "        if_modified = self.headers.get(\"If-Modified-Since\")\n",
    "\n",
    "        etag_match = False\n",
    "        if if_none_match is not None:\n",
    "            if_no_match = if_none_match.strip('\"')\n",
    "            etag_match = (if_no_match == etag)\n",
    "\n",
    "        last_match = False\n",
    "        if if_modified is not None:\n",
    "            try:\n",
    "                ims_time = int(parsedate_to_datetime(if_modified).timestamp())\n",
    "                last_match = (ims_time >= last_mod_time)\n",
    "            except Exception as e:\n",
    "                last_match = False\n",
    "\n",
    "        if etag_match or last_match:\n",
    "            self.send_response(304)\n",
    "            self.end_headers()\n",
    "            return\n",
    "\n",
    "        self.send_response(200)\n",
    "        self.send_header(\"Content-Type\", \"text/html\")\n",
    "        self.send_header(\"ETag\", etag)\n",
    "        self.send_header(\"Last-Modified\", last_modify)\n",
    "        self.end_headers()\n",
    "        self.wfile.write(content)\n",
    "\n",
    "with socketserver.TCPServer((\"\", PORT), CachingHandler) as httpd:\n",
    "    print(f\"Serving on port {PORT}...\")\n",
    "    httpd.serve_forever()"
   ]
  },
  {
   "cell_type": "markdown",
   "id": "afc1c60e",
   "metadata": {},
   "source": [
    "### How the code works, step by step:\n",
    "\n",
    "1. **Imports**: Loads modules for HTTP serving, file handling, hashing, and date formatting.\n",
    "2. **Configuration**: Sets the port and file to serve.\n",
    "3. **Handler Class**: Inherits from `SimpleHTTPRequestHandler` and overrides `do_GET` to add caching logic.\n",
    "4. **Path Check**: Only serves `index.html`; other paths return 404.\n",
    "5. **File Read**: Reads the file content in binary mode.\n",
    "6. **ETag Generation**: Computes an MD5 hash of the file for the ETag header.\n",
    "7. **Last-Modified**: Gets the file's last modification time and formats it for HTTP.\n",
    "8. **Client Cache Check**: Reads `If-None-Match` and `If-Modified-Since` headers from the request.\n",
    "9. **Cache Validation**: If the ETag matches or the file hasn't changed since the client's copy, responds with 304 (no content sent).\n",
    "10. **Send File**: If the cache is invalid or missing, sends the file with 200 OK and the appropriate headers.\n",
    "11. **Server Start**: Binds the server to the port and starts serving requests."
   ]
  }
 ],
 "metadata": {
  "kernelspec": {
   "display_name": "Python 3",
   "language": "python",
   "name": "python3"
  },
  "language_info": {
   "codemirror_mode": {
    "name": "ipython",
    "version": 3
   },
   "file_extension": ".py",
   "mimetype": "text/x-python",
   "name": "python",
   "nbconvert_exporter": "python",
   "pygments_lexer": "ipython3",
   "version": "3.10.6"
  }
 },
 "nbformat": 4,
 "nbformat_minor": 5
}
