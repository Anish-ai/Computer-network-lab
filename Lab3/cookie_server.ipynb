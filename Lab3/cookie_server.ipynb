{
 "cells": [
  {
   "cell_type": "code",
   "execution_count": null,
   "id": "c08daede",
   "metadata": {},
   "outputs": [
    {
     "name": "stdout",
     "output_type": "stream",
     "text": [
      "Server by Anish (2301mc40) at http://127.0.0.1:9090\n"
     ]
    }
   ],
   "source": [
    "import socket\n",
    "\n",
    "HOST = \"127.0.0.1\"\n",
    "PORT = 9090\n",
    "\n",
    "def process_connection(conn):\n",
    "    data = conn.recv(1024).decode()\n",
    "    lines = data.split(\"\\r\\n\")\n",
    "    user_cookie = None\n",
    "    for line in lines:\n",
    "        if line.startswith(\"Cookie:\"):\n",
    "            user_cookie = line.split(\":\", 1)[1].strip()\n",
    "            break\n",
    "\n",
    "    if user_cookie:\n",
    "        html = f\"<html><body><h1>Welcome back, Anish (2301mc40)! Cookie: {user_cookie}</h1></body></html>\"\n",
    "        reply = \"HTTP/1.1 200 OK\\r\\nContent-Type: text/html\\r\\n\\r\\n\" + html\n",
    "    else:\n",
    "        html = \"<html><body><h1>Hello, new visitor! - Anish (2301mc40)</h1></body></html>\"\n",
    "        reply = (\n",
    "            \"HTTP/1.1 200 OK\\r\\n\"\n",
    "            \"Content-Type: text/html\\r\\n\"\n",
    "            \"Set-Cookie: User=Anish2301mc40\\r\\n\\r\\n\" + html\n",
    "        )\n",
    "\n",
    "    conn.sendall(reply.encode())\n",
    "    conn.close()\n",
    "\n",
    "with socket.socket(socket.AF_INET, socket.SOCK_STREAM) as sock:\n",
    "    sock.bind((HOST, PORT))\n",
    "    sock.listen(5)\n",
    "    print(f\"Server by Anish (2301mc40) at http://{HOST}:{PORT}\")\n",
    "    while True:\n",
    "        connection, _ = sock.accept()\n",
    "        process_connection(connection)\n"
   ]
  }
 ],
 "metadata": {
  "kernelspec": {
   "display_name": "Python 3",
   "language": "python",
   "name": "python3"
  },
  "language_info": {
   "codemirror_mode": {
    "name": "ipython",
    "version": 3
   },
   "file_extension": ".py",
   "mimetype": "text/x-python",
   "name": "python",
   "nbconvert_exporter": "python",
   "pygments_lexer": "ipython3",
   "version": "3.10.6"
  }
 },
 "nbformat": 4,
 "nbformat_minor": 5
}
