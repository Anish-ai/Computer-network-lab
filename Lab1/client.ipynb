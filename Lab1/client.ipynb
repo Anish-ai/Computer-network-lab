{
 "cells": [
  {
   "cell_type": "code",
   "execution_count": 1,
   "id": "6780dc3d",
   "metadata": {},
   "outputs": [],
   "source": [
    "import socket"
   ]
  },
  {
   "cell_type": "code",
   "execution_count": 6,
   "id": "4c58a214",
   "metadata": {},
   "outputs": [
    {
     "name": "stdout",
     "output_type": "stream",
     "text": [
      "connected to server on 8767\n"
     ]
    }
   ],
   "source": [
    "client_socket = socket.socket(socket.AF_INET, socket.SOCK_STREAM)\n",
    "client_socket.connect(('localhost', 8767))\n",
    "print(\"connected to server on 8767\")"
   ]
  },
  {
   "cell_type": "code",
   "execution_count": 7,
   "id": "377c4cf0",
   "metadata": {},
   "outputs": [],
   "source": [
    "name = \"Anish Kumar\""
   ]
  },
  {
   "cell_type": "code",
   "execution_count": 8,
   "id": "a7b8e15e",
   "metadata": {},
   "outputs": [
    {
     "name": "stdout",
     "output_type": "stream",
     "text": [
      "Client's name: Anish Kumar\n",
      "Client's integer: 58\n",
      "Server's name: 2301MC40\n",
      "Server's integer: 72\n",
      "Full message sent: Client of Anish Kumar, 58\n",
      "Full message received: Server of 2301MC40, 72\n",
      "The Sum of both integers: 130\n"
     ]
    }
   ],
   "source": [
    "while True:\n",
    "    int_client = int(input(\"Enter your integer between 1 to 100: \"))\n",
    "    msg = f\"Client of {name},{int_client}\"\n",
    "    client_socket.send(msg.encode())\n",
    "    reply = client_socket.recv(1024).decode()\n",
    "    server_name_full, int_server = reply.split(\",\")\n",
    "    server_name_full = server_name_full.strip()\n",
    "    int_server = int(int_server.strip())\n",
    "    server_name = server_name_full.replace(\"Server of \", \"\")\n",
    "    print(f\"Client's name: {name}\")\n",
    "    print(f\"Client's integer: {int_client}\")\n",
    "    print(f\"Server's name: {server_name}\")\n",
    "    print(f\"Server's integer: {int_server}\")\n",
    "    print(f\"Full message sent: Client of {name}, {int_client}\")\n",
    "    print(f\"Full message received: {server_name_full}, {int_server}\")\n",
    "    print(f\"The Sum of both integers: {int_client + int_server}\")\n",
    "    break"
   ]
  },
  {
   "cell_type": "code",
   "execution_count": 5,
   "id": "bfd55253",
   "metadata": {},
   "outputs": [],
   "source": [
    "client_socket.close()"
   ]
  },
  {
   "cell_type": "code",
   "execution_count": null,
   "id": "cbbd3dee",
   "metadata": {},
   "outputs": [],
   "source": []
  }
 ],
 "metadata": {
  "kernelspec": {
   "display_name": "Python 3",
   "language": "python",
   "name": "python3"
  },
  "language_info": {
   "codemirror_mode": {
    "name": "ipython",
    "version": 3
   },
   "file_extension": ".py",
   "mimetype": "text/x-python",
   "name": "python",
   "nbconvert_exporter": "python",
   "pygments_lexer": "ipython3",
   "version": "3.10.6"
  }
 },
 "nbformat": 4,
 "nbformat_minor": 5
}
