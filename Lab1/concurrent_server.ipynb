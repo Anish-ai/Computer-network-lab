{
 "cells": [
  {
   "cell_type": "code",
   "execution_count": 1,
   "id": "e33d2b77",
   "metadata": {},
   "outputs": [],
   "source": [
    "import socket\n",
    "import threading\n",
    "import random"
   ]
  },
  {
   "cell_type": "code",
   "execution_count": 2,
   "id": "6d214f2e",
   "metadata": {},
   "outputs": [],
   "source": [
    "def handle_client(conn, addr):\n",
    "    while True:\n",
    "        data = conn.recv(1024).decode()\n",
    "        if not data:\n",
    "            break\n",
    "        client_name, int_client = data.split(\",\")\n",
    "        client_name_full = client_name.strip()\n",
    "        int_client = int(int_client.strip())\n",
    "        if int_client < 1 or int_client > 100:\n",
    "            break\n",
    "        name = \"2301MC40\"\n",
    "        int_server = random.randint(1, 100)\n",
    "        server_name_full = f\"Server of {name}\"\n",
    "        client_name = client_name_full.replace(\"Client of \", \"\")\n",
    "        server_name = name\n",
    "        print(f\"Client's name: {client_name}\")\n",
    "        print(f\"Client's integer: {int_client}\")\n",
    "        print(f\"Server's name: {server_name}\")\n",
    "        print(f\"Server's integer: {int_server}\")\n",
    "        print(f\"Full message received: {client_name_full}, {int_client}\")\n",
    "        print(f\"Full message sent: {server_name_full}, {int_server}\")\n",
    "        print(f\"The sum: {int_client + int_server}\")\n",
    "        reply = f\"{server_name_full},{int_server}\"\n",
    "        conn.send(reply.encode())\n",
    "    conn.close()"
   ]
  },
  {
   "cell_type": "code",
   "execution_count": null,
   "id": "faa4d396",
   "metadata": {},
   "outputs": [
    {
     "name": "stdout",
     "output_type": "stream",
     "text": [
      "Server is listening on 8767...\n",
      "Connected by ('127.0.0.1', 60925)\n",
      "Client's name: Anish Kumar\n",
      "Client's integer: 58\n",
      "Server's name: 2301MC40\n",
      "Server's integer: 72\n",
      "Full message received: Client of Anish Kumar, 58\n",
      "Full message sent: Server of 2301MC40, 72\n",
      "The sum: 130\n",
      "Connected by ('127.0.0.1', 60942)\n",
      "Client's name: Anish Kumar\n",
      "Client's integer: 54\n",
      "Server's name: 2301MC40\n",
      "Server's integer: 11\n",
      "Full message received: Client of Anish Kumar, 54\n",
      "Full message sent: Server of 2301MC40, 11\n",
      "The sum: 65\n"
     ]
    }
   ],
   "source": [
    "server_socket = socket.socket(socket.AF_INET, socket.SOCK_STREAM)\n",
    "server_socket.bind(('0.0.0.0', 8767))\n",
    "server_socket.listen()\n",
    "print(\"Server is listening on 8767...\")\n",
    "while True:\n",
    "    conn, addr = server_socket.accept()\n",
    "    print(f\"Connected by {addr}\")\n",
    "    client_thread = threading.Thread(target=handle_client, args=(conn, addr))\n",
    "    client_thread.start()"
   ]
  }
 ],
 "metadata": {
  "kernelspec": {
   "display_name": "Python 3",
   "language": "python",
   "name": "python3"
  },
  "language_info": {
   "codemirror_mode": {
    "name": "ipython",
    "version": 3
   },
   "file_extension": ".py",
   "mimetype": "text/x-python",
   "name": "python",
   "nbconvert_exporter": "python",
   "pygments_lexer": "ipython3",
   "version": "3.10.6"
  }
 },
 "nbformat": 4,
 "nbformat_minor": 5
}
