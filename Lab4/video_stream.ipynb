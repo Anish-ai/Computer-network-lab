{
 "cells": [
  {
   "cell_type": "code",
   "execution_count": null,
   "id": "d91f616c",
   "metadata": {},
   "outputs": [],
   "source": [
    "import cv2\n",
    "import socket\n",
    "import math\n",
    "import time\n",
    "\n",
    "ip = \"127.0.0.1\"\n",
    "port = 5000\n",
    "addr = (ip, port)\n",
    "\n",
    "sock = socket.socket(socket.AF_INET, socket.SOCK_DGRAM)\n",
    "cam = cv2.VideoCapture(0)\n",
    "fps = int(cam.get(cv2.CAP_PROP_FPS))\n",
    "interval = 1 / fps\n",
    "chunk = 65535\n",
    "\n",
    "print(\"Server started... Streaming video\")\n",
    "print(f\"IP: {ip}, Port: {port}\")\n",
    "print(f\"FPS: {fps}, Interval: {interval}, Chunk size: {chunk}\")\n",
    "\n",
    "while cam.isOpened():\n",
    "    ret, frm = cam.read()\n",
    "    print(f\"Frame read: {ret}\")\n",
    "    if not ret:\n",
    "        print(\"Failed to read frame. Exiting.\")\n",
    "        break\n",
    "    frm = cv2.resize(frm, (640, 480))\n",
    "    _, buf = cv2.imencode(\".jpg\", frm)\n",
    "    dat = buf.tobytes()\n",
    "    total = math.ceil(len(dat) / chunk)\n",
    "    print(f\"Total packets to send: {total}\")\n",
    "    for i in range(total):\n",
    "        st = i * chunk\n",
    "        en = st + chunk\n",
    "        part = dat[st:en]\n",
    "        mark = 1 if i == total - 1 else 0\n",
    "        pkt = bytes([mark]) + part\n",
    "        sock.sendto(pkt, addr)\n",
    "        print(f\"Sent packet {i+1}/{total}\")\n",
    "    time.sleep(interval)\n",
    "\n",
    "cam.release()\n",
    "sock.close()\n",
    "print(\"Streaming stopped. Resources released.\")\n"
   ]
  }
 ],
 "metadata": {
  "kernelspec": {
   "display_name": "Python 3",
   "language": "python",
   "name": "python3"
  },
  "language_info": {
   "codemirror_mode": {
    "name": "ipython",
    "version": 3
   },
   "file_extension": ".py",
   "mimetype": "text/x-python",
   "name": "python",
   "nbconvert_exporter": "python",
   "pygments_lexer": "ipython3",
   "version": "3.10.6"
  }
 },
 "nbformat": 4,
 "nbformat_minor": 5
}
