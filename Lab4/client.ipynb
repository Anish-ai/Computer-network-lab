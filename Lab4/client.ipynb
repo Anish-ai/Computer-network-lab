{
 "cells": [
  {
   "cell_type": "code",
   "execution_count": null,
   "id": "7711e6c2",
   "metadata": {},
   "outputs": [
    {
     "ename": "",
     "evalue": "",
     "output_type": "error",
     "traceback": [
      "\u001b[1;31mThe Kernel crashed while executing code in the current cell or a previous cell. \n",
      "\u001b[1;31mPlease review the code in the cell(s) to identify a possible cause of the failure. \n",
      "\u001b[1;31mClick <a href='https://aka.ms/vscodeJupyterKernelCrash'>here</a> for more info. \n",
      "\u001b[1;31mView Jupyter <a href='command:jupyter.viewOutput'>log</a> for further details."
     ]
    }
   ],
   "source": [
    "import cv2\n",
    "import socket\n",
    "import numpy as np\n",
    "\n",
    "ip = \"127.0.0.1\"\n",
    "port = 5000\n",
    "addr = (ip, port)\n",
    "\n",
    "print(f\"Binding socket to {addr}...\")\n",
    "sock = socket.socket(socket.AF_INET, socket.SOCK_DGRAM)\n",
    "sock.bind(addr)\n",
    "print(\"Socket bound successfully.\")\n",
    "\n",
    "buf = b\"\"\n",
    "print(\"Waiting for packets...\")\n",
    "while True:\n",
    "    pkt, _ = sock.recvfrom(65535)\n",
    "    print(f\"Received packet of size {len(pkt)} bytes.\")\n",
    "    m = pkt[0]\n",
    "    d = pkt[1:]\n",
    "    buf += d\n",
    "\n",
    "    if m == 1:\n",
    "        print(\"End of frame detected. Decoding image...\")\n",
    "        arr = np.frombuffer(buf, dtype=np.uint8)\n",
    "        buf = b\"\"\n",
    "        img = cv2.imdecode(arr, cv2.IMREAD_COLOR)\n",
    "        if img is not None:\n",
    "            print(\"Image decoded successfully. Displaying image.\")\n",
    "            cv2.imshow(\"Stream\", img)\n",
    "            if cv2.getWindowProperty(\"Stream\", cv2.WND_PROP_VISIBLE) < 1:\n",
    "                print(\"Window closed by user.\")\n",
    "                break\n",
    "        else:\n",
    "            print(\"Failed to decode image.\")\n",
    "        if cv2.waitKey(1) & 0xFF == ord(\"q\"):\n",
    "            print(\"Exit requested by user.\")\n",
    "            break\n",
    "\n",
    "print(\"Closing socket and destroying windows.\")\n",
    "sock.close()\n",
    "cv2.destroyAllWindows()\n"
   ]
  }
 ],
 "metadata": {
  "kernelspec": {
   "display_name": "Python 3",
   "language": "python",
   "name": "python3"
  },
  "language_info": {
   "codemirror_mode": {
    "name": "ipython",
    "version": 3
   },
   "file_extension": ".py",
   "mimetype": "text/x-python",
   "name": "python",
   "nbconvert_exporter": "python",
   "pygments_lexer": "ipython3",
   "version": "3.10.6"
  }
 },
 "nbformat": 4,
 "nbformat_minor": 5
}
